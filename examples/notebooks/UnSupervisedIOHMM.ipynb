{
 "cells": [
  {
   "cell_type": "markdown",
   "metadata": {},
   "source": [
    "# UnSupervisedIOHMM"
   ]
  },
  {
   "cell_type": "code",
   "execution_count": 1,
   "metadata": {
    "collapsed": true
   },
   "outputs": [],
   "source": [
    "from __future__ import  division\n",
    "\n",
    "import json\n",
    "import warnings\n",
    "\n",
    "\n",
    "import numpy as np\n",
    "import pandas as pd\n",
    "\n",
    "\n",
    "from IOHMM import UnSupervisedIOHMM\n",
    "from IOHMM import OLS, DiscreteMNL, CrossEntropyMNL\n",
    "\n",
    "\n",
    "warnings.simplefilter(\"ignore\")"
   ]
  },
  {
   "cell_type": "markdown",
   "metadata": {},
   "source": [
    "## Load speed data"
   ]
  },
  {
   "cell_type": "code",
   "execution_count": 2,
   "metadata": {
    "scrolled": true
   },
   "outputs": [
    {
     "data": {
      "text/html": [
       "<div>\n",
       "<style>\n",
       "    .dataframe thead tr:only-child th {\n",
       "        text-align: right;\n",
       "    }\n",
       "\n",
       "    .dataframe thead th {\n",
       "        text-align: left;\n",
       "    }\n",
       "\n",
       "    .dataframe tbody tr th {\n",
       "        vertical-align: top;\n",
       "    }\n",
       "</style>\n",
       "<table border=\"1\" class=\"dataframe\">\n",
       "  <thead>\n",
       "    <tr style=\"text-align: right;\">\n",
       "      <th></th>\n",
       "      <th>Unnamed: 0</th>\n",
       "      <th>rt</th>\n",
       "      <th>corr</th>\n",
       "      <th>Pacc</th>\n",
       "      <th>prev</th>\n",
       "    </tr>\n",
       "  </thead>\n",
       "  <tbody>\n",
       "    <tr>\n",
       "      <th>0</th>\n",
       "      <td>1</td>\n",
       "      <td>6.456770</td>\n",
       "      <td>cor</td>\n",
       "      <td>0.0</td>\n",
       "      <td>inc</td>\n",
       "    </tr>\n",
       "    <tr>\n",
       "      <th>1</th>\n",
       "      <td>2</td>\n",
       "      <td>5.602119</td>\n",
       "      <td>cor</td>\n",
       "      <td>0.0</td>\n",
       "      <td>cor</td>\n",
       "    </tr>\n",
       "    <tr>\n",
       "      <th>2</th>\n",
       "      <td>3</td>\n",
       "      <td>6.253829</td>\n",
       "      <td>inc</td>\n",
       "      <td>0.0</td>\n",
       "      <td>cor</td>\n",
       "    </tr>\n",
       "    <tr>\n",
       "      <th>3</th>\n",
       "      <td>4</td>\n",
       "      <td>5.451038</td>\n",
       "      <td>inc</td>\n",
       "      <td>0.0</td>\n",
       "      <td>inc</td>\n",
       "    </tr>\n",
       "    <tr>\n",
       "      <th>4</th>\n",
       "      <td>5</td>\n",
       "      <td>5.872118</td>\n",
       "      <td>inc</td>\n",
       "      <td>0.0</td>\n",
       "      <td>inc</td>\n",
       "    </tr>\n",
       "  </tbody>\n",
       "</table>\n",
       "</div>"
      ],
      "text/plain": [
       "   Unnamed: 0        rt corr  Pacc prev\n",
       "0           1  6.456770  cor   0.0  inc\n",
       "1           2  5.602119  cor   0.0  cor\n",
       "2           3  6.253829  inc   0.0  cor\n",
       "3           4  5.451038  inc   0.0  inc\n",
       "4           5  5.872118  inc   0.0  inc"
      ]
     },
     "execution_count": 2,
     "metadata": {},
     "output_type": "execute_result"
    }
   ],
   "source": [
    "speed = pd.read_csv('../data/speed.csv')\n",
    "speed.head()"
   ]
  },
  {
   "cell_type": "markdown",
   "metadata": {},
   "source": [
    "# Example 1"
   ]
  },
  {
   "cell_type": "markdown",
   "metadata": {},
   "source": [
    "## Set up a simple model manully"
   ]
  },
  {
   "cell_type": "code",
   "execution_count": 3,
   "metadata": {
    "collapsed": true
   },
   "outputs": [],
   "source": [
    "# set two hidden states\n",
    "SHMM = UnSupervisedIOHMM(num_states=2, max_EM_iter=200, EM_tol=1e-6)\n",
    "\n",
    "# This model has only one output which is modeled by a linear regression model\n",
    "SHMM.set_models(model_emissions = [OLS()], \n",
    "                model_transition=CrossEntropyMNL(solver='lbfgs'),\n",
    "                model_initial=CrossEntropyMNL(solver='lbfgs'))\n",
    "\n",
    "# We don't set any covariates to this OLS model\n",
    "SHMM.set_inputs(covariates_initial = [], covariates_transition = [], covariates_emissions = [[]])\n",
    "\n",
    "# This OLS has only one output target, which is 'rt' column in the dataframe\n",
    "SHMM.set_outputs([['rt']])\n",
    "\n",
    "# we only have a list of one sequence.\n",
    "SHMM.set_data([speed])"
   ]
  },
  {
   "cell_type": "markdown",
   "metadata": {},
   "source": [
    "## Start training"
   ]
  },
  {
   "cell_type": "code",
   "execution_count": 4,
   "metadata": {
    "collapsed": true,
    "scrolled": true
   },
   "outputs": [],
   "source": [
    "SHMM.train()"
   ]
  },
  {
   "cell_type": "markdown",
   "metadata": {},
   "source": [
    "## See the training results"
   ]
  },
  {
   "cell_type": "code",
   "execution_count": 5,
   "metadata": {},
   "outputs": [
    {
     "name": "stdout",
     "output_type": "stream",
     "text": [
      "[[ 5.51036369]]\n",
      "[[ 6.38505309]]\n"
     ]
    }
   ],
   "source": [
    "# The coefficients of the OLS model for each hidden states\n",
    "print SHMM.model_emissions[0][0].coef\n",
    "print SHMM.model_emissions[1][0].coef"
   ]
  },
  {
   "cell_type": "code",
   "execution_count": 6,
   "metadata": {},
   "outputs": [
    {
     "name": "stdout",
     "output_type": "stream",
     "text": [
      "[[ 0.19175214]]\n",
      "[[ 0.24415967]]\n"
     ]
    }
   ],
   "source": [
    "# The scale/dispersion of the OLS model for each hidden states\n",
    "print np.sqrt(SHMM.model_emissions[0][0].dispersion)\n",
    "print np.sqrt(SHMM.model_emissions[1][0].dispersion)"
   ]
  },
  {
   "cell_type": "code",
   "execution_count": 7,
   "metadata": {},
   "outputs": [
    {
     "name": "stdout",
     "output_type": "stream",
     "text": [
      "[[ 0.88351131  0.11648869]]\n",
      "[[ 0.08433152  0.91566848]]\n"
     ]
    }
   ],
   "source": [
    "# The transition probability between two hidden states\n",
    "print np.exp(SHMM.model_transition[0].predict_log_proba(np.array([[]])))\n",
    "print np.exp(SHMM.model_transition[1].predict_log_proba(np.array([[]])))"
   ]
  },
  {
   "cell_type": "markdown",
   "metadata": {},
   "source": [
    "# Example 2"
   ]
  },
  {
   "cell_type": "markdown",
   "metadata": {},
   "source": [
    "## Set up the another model with two outputs"
   ]
  },
  {
   "cell_type": "code",
   "execution_count": 8,
   "metadata": {
    "collapsed": true
   },
   "outputs": [],
   "source": [
    "SHMM = UnSupervisedIOHMM(num_states=2, max_EM_iter=200, EM_tol=1e-6)\n",
    "\n",
    "# This model has two outputs which is modeled by \n",
    "# a linear regression model and \n",
    "# a discrete logistic regression model\n",
    "SHMM.set_models(model_emissions = [OLS(est_stderr=True), \n",
    "                                   DiscreteMNL(solver='lbfgs')], \n",
    "                model_transition=CrossEntropyMNL(solver='lbfgs'),\n",
    "                model_initial=CrossEntropyMNL(solver='lbfgs'))\n",
    "\n",
    "# We set no covariates associated with the first output and\n",
    "# We set 'Pacc' as the input covariate associate with the second output\n",
    "SHMM.set_inputs(covariates_initial = [], covariates_transition = [], covariates_emissions = [[],['Pacc']])\n",
    "\n",
    "# 'rt' is one output modeled by linear regression and\n",
    "# 'corr' is the other output modeled by discrete logistic regression model\n",
    "SHMM.set_outputs([['rt'],['corr']])\n",
    "\n",
    "SHMM.set_data([speed])"
   ]
  },
  {
   "cell_type": "markdown",
   "metadata": {},
   "source": [
    "## Start training"
   ]
  },
  {
   "cell_type": "code",
   "execution_count": 9,
   "metadata": {
    "collapsed": true,
    "scrolled": true
   },
   "outputs": [],
   "source": [
    "SHMM.train()"
   ]
  },
  {
   "cell_type": "markdown",
   "metadata": {},
   "source": [
    "## See the training results"
   ]
  },
  {
   "cell_type": "code",
   "execution_count": 10,
   "metadata": {},
   "outputs": [
    {
     "name": "stdout",
     "output_type": "stream",
     "text": [
      "[[ 6.38764009]]\n",
      "[[ 5.51390328]]\n",
      "\n",
      "[[-1.13690447 -2.17394618]]\n",
      "[[-0.21848303  0.57762625]]\n"
     ]
    }
   ],
   "source": [
    "# See the coefficients of the emission model 1 ('rt') of each hidden states\n",
    "print SHMM.model_emissions[0][0].coef\n",
    "print SHMM.model_emissions[1][0].coef\n",
    "print\n",
    "# See the coefficients of the emission model 2 ('corr') of each hidden states\n",
    "print SHMM.model_emissions[0][1].coef\n",
    "print SHMM.model_emissions[1][1].coef"
   ]
  },
  {
   "cell_type": "code",
   "execution_count": 11,
   "metadata": {},
   "outputs": [
    {
     "name": "stdout",
     "output_type": "stream",
     "text": [
      "[[ 0.01498923]]\n",
      "[[ 0.0143314]]\n",
      "\n",
      "None\n",
      "None\n"
     ]
    }
   ],
   "source": [
    "# See the estimated standard error of coefficients of the emission model 1 ('rt') of each hidden states\n",
    "print SHMM.model_emissions[0][0].stderr\n",
    "print SHMM.model_emissions[1][0].stderr\n",
    "print\n",
    "# See the estimated standard error of coefficients of the emission model 2 ('corr') of each hidden states\n",
    "# Note that est_stderr is not supported in the MNL model.\n",
    "print SHMM.model_emissions[0][1].stderr\n",
    "print SHMM.model_emissions[1][1].stderr"
   ]
  },
  {
   "cell_type": "code",
   "execution_count": 12,
   "metadata": {},
   "outputs": [
    {
     "name": "stdout",
     "output_type": "stream",
     "text": [
      "[[ 0.91491024  0.08508976]]\n",
      "[[ 0.11590608  0.88409392]]\n"
     ]
    }
   ],
   "source": [
    "# The transition probability between two hidden states\n",
    "print np.exp(SHMM.model_transition[0].predict_log_proba(np.array([[]])))\n",
    "print np.exp(SHMM.model_transition[1].predict_log_proba(np.array([[]])))"
   ]
  },
  {
   "cell_type": "markdown",
   "metadata": {},
   "source": [
    "## Save the trained model"
   ]
  },
  {
   "cell_type": "code",
   "execution_count": 13,
   "metadata": {
    "scrolled": true
   },
   "outputs": [
    {
     "data": {
      "text/plain": [
       "{'data_type': 'UnSupervisedIOHMM',\n",
       " 'properties': {'EM_tol': 1e-06,\n",
       "  'covariates_emissions': [[], ['Pacc']],\n",
       "  'covariates_initial': [],\n",
       "  'covariates_transition': [],\n",
       "  'max_EM_iter': 200,\n",
       "  'model_emissions': [[{'data_type': 'OLS',\n",
       "     'properties': {'alpha': 0,\n",
       "      'coef': {'data_type': 'numpy.ndarray',\n",
       "       'path': '../models/UnSupervisedIOHMM/model_emissions/state_0/emission_0/coef.npy'},\n",
       "      'dispersion': {'data_type': 'numpy.ndarray',\n",
       "       'path': '../models/UnSupervisedIOHMM/model_emissions/state_0/emission_0/dispersion.npy'},\n",
       "      'est_stderr': True,\n",
       "      'fit_intercept': True,\n",
       "      'l1_ratio': 0,\n",
       "      'max_iter': 100,\n",
       "      'n_targets': 1,\n",
       "      'reg_method': None,\n",
       "      'solver': 'svd',\n",
       "      'stderr': {'data_type': 'numpy.ndarray',\n",
       "       'path': '../models/UnSupervisedIOHMM/model_emissions/state_0/emission_0/stderr.npy'},\n",
       "      'tol': 0.0001}},\n",
       "    {'data_type': 'DiscreteMNL',\n",
       "     'properties': {'alpha': 0,\n",
       "      'classes': {'data_type': 'numpy.ndarray',\n",
       "       'path': '../models/UnSupervisedIOHMM/model_emissions/state_0/emission_1/classes.npy'},\n",
       "      'coef': {'data_type': 'numpy.ndarray',\n",
       "       'path': '../models/UnSupervisedIOHMM/model_emissions/state_0/emission_1/coef.npy'},\n",
       "      'est_stderr': False,\n",
       "      'fit_intercept': True,\n",
       "      'l1_ratio': 0,\n",
       "      'max_iter': 100,\n",
       "      'reg_method': 'l2',\n",
       "      'solver': 'lbfgs',\n",
       "      'stderr': {'data_type': 'numpy.ndarray',\n",
       "       'path': '../models/UnSupervisedIOHMM/model_emissions/state_0/emission_1/stderr.npy'},\n",
       "      'tol': 0.0001}}],\n",
       "   [{'data_type': 'OLS',\n",
       "     'properties': {'alpha': 0,\n",
       "      'coef': {'data_type': 'numpy.ndarray',\n",
       "       'path': '../models/UnSupervisedIOHMM/model_emissions/state_1/emission_0/coef.npy'},\n",
       "      'dispersion': {'data_type': 'numpy.ndarray',\n",
       "       'path': '../models/UnSupervisedIOHMM/model_emissions/state_1/emission_0/dispersion.npy'},\n",
       "      'est_stderr': True,\n",
       "      'fit_intercept': True,\n",
       "      'l1_ratio': 0,\n",
       "      'max_iter': 100,\n",
       "      'n_targets': 1,\n",
       "      'reg_method': None,\n",
       "      'solver': 'svd',\n",
       "      'stderr': {'data_type': 'numpy.ndarray',\n",
       "       'path': '../models/UnSupervisedIOHMM/model_emissions/state_1/emission_0/stderr.npy'},\n",
       "      'tol': 0.0001}},\n",
       "    {'data_type': 'DiscreteMNL',\n",
       "     'properties': {'alpha': 0,\n",
       "      'classes': {'data_type': 'numpy.ndarray',\n",
       "       'path': '../models/UnSupervisedIOHMM/model_emissions/state_1/emission_1/classes.npy'},\n",
       "      'coef': {'data_type': 'numpy.ndarray',\n",
       "       'path': '../models/UnSupervisedIOHMM/model_emissions/state_1/emission_1/coef.npy'},\n",
       "      'est_stderr': False,\n",
       "      'fit_intercept': True,\n",
       "      'l1_ratio': 0,\n",
       "      'max_iter': 100,\n",
       "      'reg_method': 'l2',\n",
       "      'solver': 'lbfgs',\n",
       "      'stderr': {'data_type': 'numpy.ndarray',\n",
       "       'path': '../models/UnSupervisedIOHMM/model_emissions/state_1/emission_1/stderr.npy'},\n",
       "      'tol': 0.0001}}]],\n",
       "  'model_initial': {'data_type': 'CrossEntropyMNL',\n",
       "   'properties': {'alpha': 0,\n",
       "    'coef': {'data_type': 'numpy.ndarray',\n",
       "     'path': '../models/UnSupervisedIOHMM/model_initial/coef.npy'},\n",
       "    'est_stderr': False,\n",
       "    'fit_intercept': True,\n",
       "    'l1_ratio': 0,\n",
       "    'max_iter': 100,\n",
       "    'n_classes': 2,\n",
       "    'reg_method': 'l2',\n",
       "    'solver': 'lbfgs',\n",
       "    'stderr': {'data_type': 'numpy.ndarray',\n",
       "     'path': '../models/UnSupervisedIOHMM/model_initial/stderr.npy'},\n",
       "    'tol': 0.0001}},\n",
       "  'model_transition': [{'data_type': 'CrossEntropyMNL',\n",
       "    'properties': {'alpha': 0,\n",
       "     'coef': {'data_type': 'numpy.ndarray',\n",
       "      'path': '../models/UnSupervisedIOHMM/model_transition/state_0/coef.npy'},\n",
       "     'est_stderr': False,\n",
       "     'fit_intercept': True,\n",
       "     'l1_ratio': 0,\n",
       "     'max_iter': 100,\n",
       "     'n_classes': 2,\n",
       "     'reg_method': 'l2',\n",
       "     'solver': 'lbfgs',\n",
       "     'stderr': {'data_type': 'numpy.ndarray',\n",
       "      'path': '../models/UnSupervisedIOHMM/model_transition/state_0/stderr.npy'},\n",
       "     'tol': 0.0001}},\n",
       "   {'data_type': 'CrossEntropyMNL',\n",
       "    'properties': {'alpha': 0,\n",
       "     'coef': {'data_type': 'numpy.ndarray',\n",
       "      'path': '../models/UnSupervisedIOHMM/model_transition/state_1/coef.npy'},\n",
       "     'est_stderr': False,\n",
       "     'fit_intercept': True,\n",
       "     'l1_ratio': 0,\n",
       "     'max_iter': 100,\n",
       "     'n_classes': 2,\n",
       "     'reg_method': 'l2',\n",
       "     'solver': 'lbfgs',\n",
       "     'stderr': {'data_type': 'numpy.ndarray',\n",
       "      'path': '../models/UnSupervisedIOHMM/model_transition/state_1/stderr.npy'},\n",
       "     'tol': 0.0001}}],\n",
       "  'num_states': 2,\n",
       "  'responses_emissions': [['rt'], ['corr']]}}"
      ]
     },
     "execution_count": 13,
     "metadata": {},
     "output_type": "execute_result"
    }
   ],
   "source": [
    "json_dict = SHMM.to_json('../models/UnSupervisedIOHMM/')\n",
    "json_dict"
   ]
  },
  {
   "cell_type": "code",
   "execution_count": 14,
   "metadata": {
    "collapsed": true
   },
   "outputs": [],
   "source": [
    "with open('../models/UnSupervisedIOHMM/model.json', 'w') as outfile:\n",
    "    json.dump(json_dict, outfile, indent=4, sort_keys=True)"
   ]
  },
  {
   "cell_type": "markdown",
   "metadata": {
    "collapsed": true
   },
   "source": [
    "## Load back the trained model"
   ]
  },
  {
   "cell_type": "code",
   "execution_count": 15,
   "metadata": {
    "collapsed": true
   },
   "outputs": [],
   "source": [
    "SHMM_from_json = UnSupervisedIOHMM.from_json(json_dict)"
   ]
  },
  {
   "cell_type": "markdown",
   "metadata": {},
   "source": [
    "## See if the coefficients are any different"
   ]
  },
  {
   "cell_type": "code",
   "execution_count": 16,
   "metadata": {},
   "outputs": [
    {
     "name": "stdout",
     "output_type": "stream",
     "text": [
      "[[ 6.38764009]]\n",
      "[[ 5.51390328]]\n",
      "\n",
      "[[-1.13690447 -2.17394618]]\n",
      "[[-0.21848303  0.57762625]]\n"
     ]
    }
   ],
   "source": [
    "# See the coefficients of the emission model 1 ('rt') of each hidden states\n",
    "print SHMM_from_json.model_emissions[0][0].coef\n",
    "print SHMM_from_json.model_emissions[1][0].coef\n",
    "print\n",
    "# See the coefficients of the emission model 2 ('corr') of each hidden states\n",
    "print SHMM_from_json.model_emissions[0][1].coef\n",
    "print SHMM_from_json.model_emissions[1][1].coef"
   ]
  },
  {
   "cell_type": "markdown",
   "metadata": {},
   "source": [
    "## Set up the model using a config file, instead of doing it manully"
   ]
  },
  {
   "cell_type": "code",
   "execution_count": 17,
   "metadata": {
    "collapsed": true
   },
   "outputs": [],
   "source": [
    "with open('../models/UnSupervisedIOHMM/config.json') as json_data:\n",
    "    json_dict = json.load(json_data)\n",
    "\n",
    "SHMM_from_config = UnSupervisedIOHMM.from_config(json_dict)"
   ]
  },
  {
   "cell_type": "markdown",
   "metadata": {},
   "source": [
    "## Set data and start training"
   ]
  },
  {
   "cell_type": "code",
   "execution_count": 18,
   "metadata": {},
   "outputs": [],
   "source": [
    "SHMM_from_config.set_data([speed])\n",
    "SHMM_from_config.train()"
   ]
  },
  {
   "cell_type": "markdown",
   "metadata": {},
   "source": [
    "## See if the training results are any different?"
   ]
  },
  {
   "cell_type": "code",
   "execution_count": 19,
   "metadata": {},
   "outputs": [
    {
     "name": "stdout",
     "output_type": "stream",
     "text": [
      "[[ 6.38763985]]\n",
      "[[ 5.51390293]]\n",
      "\n",
      "[[-1.13689776 -2.17395753]]\n",
      "[[-0.21848318  0.57762729]]\n"
     ]
    }
   ],
   "source": [
    "# See the coefficients of the emission model 1 ('rt') of each hidden states\n",
    "print SHMM_from_config.model_emissions[0][0].coef\n",
    "print SHMM_from_config.model_emissions[1][0].coef\n",
    "print\n",
    "# See the coefficients of the emission model 2 ('corr') of each hidden states\n",
    "print SHMM_from_config.model_emissions[0][1].coef\n",
    "print SHMM_from_config.model_emissions[1][1].coef"
   ]
  },
  {
   "cell_type": "code",
   "execution_count": null,
   "metadata": {
    "collapsed": true
   },
   "outputs": [],
   "source": []
  }
 ],
 "metadata": {
  "kernelspec": {
   "display_name": "Python 2",
   "language": "python",
   "name": "python2"
  },
  "language_info": {
   "codemirror_mode": {
    "name": "ipython",
    "version": 2
   },
   "file_extension": ".py",
   "mimetype": "text/x-python",
   "name": "python",
   "nbconvert_exporter": "python",
   "pygments_lexer": "ipython2",
   "version": "2.7.13"
  }
 },
 "nbformat": 4,
 "nbformat_minor": 1
}
