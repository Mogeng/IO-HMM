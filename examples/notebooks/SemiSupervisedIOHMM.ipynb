{
 "cells": [
  {
   "cell_type": "markdown",
   "metadata": {},
   "source": [
    "This is the IOHMM model with the parameters learned in a semi-supervised way. By using some labeled data, we force the learning process in a certain direction. The unlabeled data will be estimated using EM algorithm iteratively. See notes in http://pages.cs.wisc.edu/~jerryzhu/pub/sslicml07.pdf"
   ]
  },
  {
   "cell_type": "markdown",
   "metadata": {},
   "source": [
    "# SemiSupervisedIOHMM "
   ]
  },
  {
   "cell_type": "code",
   "execution_count": 1,
   "metadata": {
    "collapsed": true
   },
   "outputs": [],
   "source": [
    "from __future__ import  division\n",
    "\n",
    "import json\n",
    "import warnings\n",
    "\n",
    "\n",
    "import numpy as np\n",
    "import pandas as pd\n",
    "\n",
    "\n",
    "from IOHMM import SemiSupervisedIOHMM\n",
    "from IOHMM import OLS, CrossEntropyMNL\n",
    "\n",
    "\n",
    "warnings.simplefilter(\"ignore\")"
   ]
  },
  {
   "cell_type": "markdown",
   "metadata": {},
   "source": [
    "## Load speed data"
   ]
  },
  {
   "cell_type": "code",
   "execution_count": 2,
   "metadata": {},
   "outputs": [
    {
     "data": {
      "text/html": [
       "<div>\n",
       "<style>\n",
       "    .dataframe thead tr:only-child th {\n",
       "        text-align: right;\n",
       "    }\n",
       "\n",
       "    .dataframe thead th {\n",
       "        text-align: left;\n",
       "    }\n",
       "\n",
       "    .dataframe tbody tr th {\n",
       "        vertical-align: top;\n",
       "    }\n",
       "</style>\n",
       "<table border=\"1\" class=\"dataframe\">\n",
       "  <thead>\n",
       "    <tr style=\"text-align: right;\">\n",
       "      <th></th>\n",
       "      <th>Unnamed: 0</th>\n",
       "      <th>rt</th>\n",
       "      <th>corr</th>\n",
       "      <th>Pacc</th>\n",
       "      <th>prev</th>\n",
       "    </tr>\n",
       "  </thead>\n",
       "  <tbody>\n",
       "    <tr>\n",
       "      <th>0</th>\n",
       "      <td>1</td>\n",
       "      <td>6.456770</td>\n",
       "      <td>cor</td>\n",
       "      <td>0.0</td>\n",
       "      <td>inc</td>\n",
       "    </tr>\n",
       "    <tr>\n",
       "      <th>1</th>\n",
       "      <td>2</td>\n",
       "      <td>5.602119</td>\n",
       "      <td>cor</td>\n",
       "      <td>0.0</td>\n",
       "      <td>cor</td>\n",
       "    </tr>\n",
       "    <tr>\n",
       "      <th>2</th>\n",
       "      <td>3</td>\n",
       "      <td>6.253829</td>\n",
       "      <td>inc</td>\n",
       "      <td>0.0</td>\n",
       "      <td>cor</td>\n",
       "    </tr>\n",
       "    <tr>\n",
       "      <th>3</th>\n",
       "      <td>4</td>\n",
       "      <td>5.451038</td>\n",
       "      <td>inc</td>\n",
       "      <td>0.0</td>\n",
       "      <td>inc</td>\n",
       "    </tr>\n",
       "    <tr>\n",
       "      <th>4</th>\n",
       "      <td>5</td>\n",
       "      <td>5.872118</td>\n",
       "      <td>inc</td>\n",
       "      <td>0.0</td>\n",
       "      <td>inc</td>\n",
       "    </tr>\n",
       "  </tbody>\n",
       "</table>\n",
       "</div>"
      ],
      "text/plain": [
       "   Unnamed: 0        rt corr  Pacc prev\n",
       "0           1  6.456770  cor   0.0  inc\n",
       "1           2  5.602119  cor   0.0  cor\n",
       "2           3  6.253829  inc   0.0  cor\n",
       "3           4  5.451038  inc   0.0  inc\n",
       "4           5  5.872118  inc   0.0  inc"
      ]
     },
     "execution_count": 2,
     "metadata": {},
     "output_type": "execute_result"
    }
   ],
   "source": [
    "speed = pd.read_csv('../data/speed.csv')\n",
    "speed.head()"
   ]
  },
  {
   "cell_type": "markdown",
   "metadata": {},
   "source": [
    "## Label some states"
   ]
  },
  {
   "cell_type": "markdown",
   "metadata": {},
   "source": [
    "In our structure of the code, the states should be a dictionary, the key is the index in the sequence (e.g. 0, 5) and the value is a one-out-of-n code of array where the kth value is 1 if the hidden state is k. n is the number of states in total.\n",
    "\n",
    "In the following example, we assume that the \"corr\" column gives the correct hidden states. Here we assume only the first half of the sequence is labeled.\n",
    "\n",
    "To make sure that the semi supervised model works, we set the value of 'rt' in state 0 as 0 and we set the value of 'rt' in state 1 as 1, the other values are not changed. So after training, we should be able to see 4 states clearly"
   ]
  },
  {
   "cell_type": "code",
   "execution_count": 3,
   "metadata": {
    "scrolled": true
   },
   "outputs": [],
   "source": [
    "states = {}\n",
    "corr = np.array(speed['corr'])\n",
    "for i in range(int(len(corr)/2)):\n",
    "    state = np.zeros((4,))\n",
    "    if corr[i] == 'cor':\n",
    "        states[i] = np.array([0,1,0,0])\n",
    "        speed.set_value(i, 'rt', 1)\n",
    "    else:\n",
    "        states[i] = np.array([1,0,0,0])\n",
    "        speed.set_value(i, 'rt', 0)"
   ]
  },
  {
   "cell_type": "code",
   "execution_count": 4,
   "metadata": {},
   "outputs": [
    {
     "name": "stdout",
     "output_type": "stream",
     "text": [
      "439\n",
      "219\n"
     ]
    }
   ],
   "source": [
    "print speed.shape[0]\n",
    "print len(states)"
   ]
  },
  {
   "cell_type": "code",
   "execution_count": 5,
   "metadata": {},
   "outputs": [
    {
     "name": "stdout",
     "output_type": "stream",
     "text": [
      "[0 1 0 0]\n",
      "[0 1 0 0]\n",
      "[1 0 0 0]\n",
      "[1 0 0 0]\n",
      "[1 0 0 0]\n"
     ]
    }
   ],
   "source": [
    "for t in range(5):\n",
    "    print states[t]"
   ]
  },
  {
   "cell_type": "markdown",
   "metadata": {},
   "source": [
    "## Set up a simple model manully"
   ]
  },
  {
   "cell_type": "code",
   "execution_count": 6,
   "metadata": {
    "collapsed": true
   },
   "outputs": [],
   "source": [
    "# there should be 4 hidden states in this model\n",
    "SHMM = SemiSupervisedIOHMM(num_states=4, max_EM_iter=200, EM_tol=1e-10)\n",
    "\n",
    "# we set only one output 'rt' modeled by a linear regression model\n",
    "SHMM.set_models(model_emissions = [OLS()], \n",
    "                model_transition=CrossEntropyMNL(solver='lbfgs'),\n",
    "                model_initial=CrossEntropyMNL(solver='lbfgs'))\n",
    "\n",
    "# we set no covariates associated with initial/transitiojn/emission models\n",
    "SHMM.set_inputs(covariates_initial = [], covariates_transition = [], covariates_emissions = [[]])\n",
    "\n",
    "# set the response of the emission model\n",
    "SHMM.set_outputs([['rt']])\n",
    "\n",
    "# set the data and ground truth states\n",
    "SHMM.set_data([[speed, states]])"
   ]
  },
  {
   "cell_type": "markdown",
   "metadata": {},
   "source": [
    "## Start training"
   ]
  },
  {
   "cell_type": "code",
   "execution_count": 7,
   "metadata": {
    "collapsed": true,
    "scrolled": true
   },
   "outputs": [],
   "source": [
    "SHMM.train()"
   ]
  },
  {
   "cell_type": "markdown",
   "metadata": {},
   "source": [
    "## See the training results"
   ]
  },
  {
   "cell_type": "code",
   "execution_count": 8,
   "metadata": {},
   "outputs": [
    {
     "name": "stdout",
     "output_type": "stream",
     "text": [
      "[[ 0.]]\n",
      "[[ 1.]]\n",
      "[[ 6.38975526]]\n",
      "[[ 5.47039844]]\n"
     ]
    }
   ],
   "source": [
    "# the coefficients of the output model for each states\n",
    "# clearly the enforcement worked since the coefficient of the first two states are 0, and 1\n",
    "print SHMM.model_emissions[0][0].coef\n",
    "print SHMM.model_emissions[1][0].coef\n",
    "print SHMM.model_emissions[2][0].coef\n",
    "print SHMM.model_emissions[3][0].coef"
   ]
  },
  {
   "cell_type": "code",
   "execution_count": 9,
   "metadata": {},
   "outputs": [
    {
     "name": "stdout",
     "output_type": "stream",
     "text": [
      "[[ 0.]]\n",
      "[[  1.66533454e-15]]\n",
      "[[ 0.22536249]]\n",
      "[[ 0.17915255]]\n"
     ]
    }
   ],
   "source": [
    "# the scale/dispersion of the output model of each states\n",
    "# since we know the first two states perfectly, the dispersions are 0.\n",
    "print np.sqrt(SHMM.model_emissions[0][0].dispersion)\n",
    "print np.sqrt(SHMM.model_emissions[1][0].dispersion)\n",
    "print np.sqrt(SHMM.model_emissions[2][0].dispersion)\n",
    "print np.sqrt(SHMM.model_emissions[3][0].dispersion)"
   ]
  },
  {
   "cell_type": "code",
   "execution_count": 10,
   "metadata": {},
   "outputs": [
    {
     "name": "stdout",
     "output_type": "stream",
     "text": [
      "[[  4.03845430e-01   5.96154225e-01   1.72468132e-07   1.72468132e-07]]\n",
      "[[  1.85628510e-01   8.08383511e-01   8.78709325e-10   5.98797866e-03]]\n",
      "[[  1.74937041e-07   1.74937041e-07   9.27082453e-01   7.29171969e-02]]\n",
      "[[  3.41629342e-08   3.41629342e-08   1.11257897e-01   8.88742035e-01]]\n"
     ]
    }
   ],
   "source": [
    "# the transition probability from each state\n",
    "print np.exp(SHMM.model_transition[0].predict_log_proba(np.array([[]])))\n",
    "print np.exp(SHMM.model_transition[1].predict_log_proba(np.array([[]])))\n",
    "print np.exp(SHMM.model_transition[2].predict_log_proba(np.array([[]])))\n",
    "print np.exp(SHMM.model_transition[3].predict_log_proba(np.array([[]])))"
   ]
  },
  {
   "cell_type": "markdown",
   "metadata": {
    "collapsed": true
   },
   "source": [
    "## Save the trained model"
   ]
  },
  {
   "cell_type": "code",
   "execution_count": 11,
   "metadata": {},
   "outputs": [
    {
     "data": {
      "text/plain": [
       "{'data_type': 'SemiSupervisedIOHMM',\n",
       " 'properties': {'EM_tol': 1e-10,\n",
       "  'covariates_emissions': [[]],\n",
       "  'covariates_initial': [],\n",
       "  'covariates_transition': [],\n",
       "  'max_EM_iter': 200,\n",
       "  'model_emissions': [[{'data_type': 'OLS',\n",
       "     'properties': {'alpha': 0,\n",
       "      'coef': {'data_type': 'numpy.ndarray',\n",
       "       'path': '../models/SemiSupervisedIOHMM/model_emissions/state_0/emission_0/coef.npy'},\n",
       "      'dispersion': {'data_type': 'numpy.ndarray',\n",
       "       'path': '../models/SemiSupervisedIOHMM/model_emissions/state_0/emission_0/dispersion.npy'},\n",
       "      'est_stderr': False,\n",
       "      'fit_intercept': True,\n",
       "      'l1_ratio': 0,\n",
       "      'max_iter': 100,\n",
       "      'n_targets': 1,\n",
       "      'reg_method': None,\n",
       "      'solver': 'svd',\n",
       "      'stderr': {'data_type': 'numpy.ndarray',\n",
       "       'path': '../models/SemiSupervisedIOHMM/model_emissions/state_0/emission_0/stderr.npy'},\n",
       "      'tol': 0.0001}}],\n",
       "   [{'data_type': 'OLS',\n",
       "     'properties': {'alpha': 0,\n",
       "      'coef': {'data_type': 'numpy.ndarray',\n",
       "       'path': '../models/SemiSupervisedIOHMM/model_emissions/state_1/emission_0/coef.npy'},\n",
       "      'dispersion': {'data_type': 'numpy.ndarray',\n",
       "       'path': '../models/SemiSupervisedIOHMM/model_emissions/state_1/emission_0/dispersion.npy'},\n",
       "      'est_stderr': False,\n",
       "      'fit_intercept': True,\n",
       "      'l1_ratio': 0,\n",
       "      'max_iter': 100,\n",
       "      'n_targets': 1,\n",
       "      'reg_method': None,\n",
       "      'solver': 'svd',\n",
       "      'stderr': {'data_type': 'numpy.ndarray',\n",
       "       'path': '../models/SemiSupervisedIOHMM/model_emissions/state_1/emission_0/stderr.npy'},\n",
       "      'tol': 0.0001}}],\n",
       "   [{'data_type': 'OLS',\n",
       "     'properties': {'alpha': 0,\n",
       "      'coef': {'data_type': 'numpy.ndarray',\n",
       "       'path': '../models/SemiSupervisedIOHMM/model_emissions/state_2/emission_0/coef.npy'},\n",
       "      'dispersion': {'data_type': 'numpy.ndarray',\n",
       "       'path': '../models/SemiSupervisedIOHMM/model_emissions/state_2/emission_0/dispersion.npy'},\n",
       "      'est_stderr': False,\n",
       "      'fit_intercept': True,\n",
       "      'l1_ratio': 0,\n",
       "      'max_iter': 100,\n",
       "      'n_targets': 1,\n",
       "      'reg_method': None,\n",
       "      'solver': 'svd',\n",
       "      'stderr': {'data_type': 'numpy.ndarray',\n",
       "       'path': '../models/SemiSupervisedIOHMM/model_emissions/state_2/emission_0/stderr.npy'},\n",
       "      'tol': 0.0001}}],\n",
       "   [{'data_type': 'OLS',\n",
       "     'properties': {'alpha': 0,\n",
       "      'coef': {'data_type': 'numpy.ndarray',\n",
       "       'path': '../models/SemiSupervisedIOHMM/model_emissions/state_3/emission_0/coef.npy'},\n",
       "      'dispersion': {'data_type': 'numpy.ndarray',\n",
       "       'path': '../models/SemiSupervisedIOHMM/model_emissions/state_3/emission_0/dispersion.npy'},\n",
       "      'est_stderr': False,\n",
       "      'fit_intercept': True,\n",
       "      'l1_ratio': 0,\n",
       "      'max_iter': 100,\n",
       "      'n_targets': 1,\n",
       "      'reg_method': None,\n",
       "      'solver': 'svd',\n",
       "      'stderr': {'data_type': 'numpy.ndarray',\n",
       "       'path': '../models/SemiSupervisedIOHMM/model_emissions/state_3/emission_0/stderr.npy'},\n",
       "      'tol': 0.0001}}]],\n",
       "  'model_initial': {'data_type': 'CrossEntropyMNL',\n",
       "   'properties': {'alpha': 0,\n",
       "    'coef': {'data_type': 'numpy.ndarray',\n",
       "     'path': '../models/SemiSupervisedIOHMM/model_initial/coef.npy'},\n",
       "    'est_stderr': False,\n",
       "    'fit_intercept': True,\n",
       "    'l1_ratio': 0,\n",
       "    'max_iter': 100,\n",
       "    'n_classes': 4,\n",
       "    'reg_method': 'l2',\n",
       "    'solver': 'lbfgs',\n",
       "    'stderr': {'data_type': 'numpy.ndarray',\n",
       "     'path': '../models/SemiSupervisedIOHMM/model_initial/stderr.npy'},\n",
       "    'tol': 0.0001}},\n",
       "  'model_transition': [{'data_type': 'CrossEntropyMNL',\n",
       "    'properties': {'alpha': 0,\n",
       "     'coef': {'data_type': 'numpy.ndarray',\n",
       "      'path': '../models/SemiSupervisedIOHMM/model_transition/state_0/coef.npy'},\n",
       "     'est_stderr': False,\n",
       "     'fit_intercept': True,\n",
       "     'l1_ratio': 0,\n",
       "     'max_iter': 100,\n",
       "     'n_classes': 4,\n",
       "     'reg_method': 'l2',\n",
       "     'solver': 'lbfgs',\n",
       "     'stderr': {'data_type': 'numpy.ndarray',\n",
       "      'path': '../models/SemiSupervisedIOHMM/model_transition/state_0/stderr.npy'},\n",
       "     'tol': 0.0001}},\n",
       "   {'data_type': 'CrossEntropyMNL',\n",
       "    'properties': {'alpha': 0,\n",
       "     'coef': {'data_type': 'numpy.ndarray',\n",
       "      'path': '../models/SemiSupervisedIOHMM/model_transition/state_1/coef.npy'},\n",
       "     'est_stderr': False,\n",
       "     'fit_intercept': True,\n",
       "     'l1_ratio': 0,\n",
       "     'max_iter': 100,\n",
       "     'n_classes': 4,\n",
       "     'reg_method': 'l2',\n",
       "     'solver': 'lbfgs',\n",
       "     'stderr': {'data_type': 'numpy.ndarray',\n",
       "      'path': '../models/SemiSupervisedIOHMM/model_transition/state_1/stderr.npy'},\n",
       "     'tol': 0.0001}},\n",
       "   {'data_type': 'CrossEntropyMNL',\n",
       "    'properties': {'alpha': 0,\n",
       "     'coef': {'data_type': 'numpy.ndarray',\n",
       "      'path': '../models/SemiSupervisedIOHMM/model_transition/state_2/coef.npy'},\n",
       "     'est_stderr': False,\n",
       "     'fit_intercept': True,\n",
       "     'l1_ratio': 0,\n",
       "     'max_iter': 100,\n",
       "     'n_classes': 4,\n",
       "     'reg_method': 'l2',\n",
       "     'solver': 'lbfgs',\n",
       "     'stderr': {'data_type': 'numpy.ndarray',\n",
       "      'path': '../models/SemiSupervisedIOHMM/model_transition/state_2/stderr.npy'},\n",
       "     'tol': 0.0001}},\n",
       "   {'data_type': 'CrossEntropyMNL',\n",
       "    'properties': {'alpha': 0,\n",
       "     'coef': {'data_type': 'numpy.ndarray',\n",
       "      'path': '../models/SemiSupervisedIOHMM/model_transition/state_3/coef.npy'},\n",
       "     'est_stderr': False,\n",
       "     'fit_intercept': True,\n",
       "     'l1_ratio': 0,\n",
       "     'max_iter': 100,\n",
       "     'n_classes': 4,\n",
       "     'reg_method': 'l2',\n",
       "     'solver': 'lbfgs',\n",
       "     'stderr': {'data_type': 'numpy.ndarray',\n",
       "      'path': '../models/SemiSupervisedIOHMM/model_transition/state_3/stderr.npy'},\n",
       "     'tol': 0.0001}}],\n",
       "  'num_states': 4,\n",
       "  'responses_emissions': [['rt']]}}"
      ]
     },
     "execution_count": 11,
     "metadata": {},
     "output_type": "execute_result"
    }
   ],
   "source": [
    "json_dict = SHMM.to_json('../models/SemiSupervisedIOHMM/')\n",
    "json_dict"
   ]
  },
  {
   "cell_type": "code",
   "execution_count": 12,
   "metadata": {
    "collapsed": true
   },
   "outputs": [],
   "source": [
    "with open('../models/SemiSupervisedIOHMM/model.json', 'w') as outfile:\n",
    "    json.dump(json_dict, outfile, indent=4, sort_keys=True)"
   ]
  },
  {
   "cell_type": "markdown",
   "metadata": {},
   "source": [
    "## Load back the trained model"
   ]
  },
  {
   "cell_type": "code",
   "execution_count": 13,
   "metadata": {
    "collapsed": true
   },
   "outputs": [],
   "source": [
    "SHMM_from_json = SemiSupervisedIOHMM.from_json(json_dict)"
   ]
  },
  {
   "cell_type": "markdown",
   "metadata": {},
   "source": [
    "## See if the coefficients are any different"
   ]
  },
  {
   "cell_type": "code",
   "execution_count": 14,
   "metadata": {},
   "outputs": [
    {
     "name": "stdout",
     "output_type": "stream",
     "text": [
      "[[ 0.]]\n",
      "[[ 1.]]\n",
      "[[ 6.38975526]]\n",
      "[[ 5.47039844]]\n"
     ]
    }
   ],
   "source": [
    "# the coefficients of the output model for each states\n",
    "# clearly the enforcement worked since the coefficient of the first two states are 0, and 1\n",
    "print SHMM_from_json.model_emissions[0][0].coef\n",
    "print SHMM_from_json.model_emissions[1][0].coef\n",
    "print SHMM_from_json.model_emissions[2][0].coef\n",
    "print SHMM_from_json.model_emissions[3][0].coef"
   ]
  },
  {
   "cell_type": "markdown",
   "metadata": {},
   "source": [
    "## Set up the model using a config file, instead of doing it manully"
   ]
  },
  {
   "cell_type": "code",
   "execution_count": 15,
   "metadata": {
    "collapsed": true
   },
   "outputs": [],
   "source": [
    "with open('../models/SemiSupervisedIOHMM/config.json') as json_data:\n",
    "    json_dict = json.load(json_data)\n",
    "\n",
    "SHMM_from_config = SemiSupervisedIOHMM.from_config(json_dict)"
   ]
  },
  {
   "cell_type": "markdown",
   "metadata": {},
   "source": [
    "## Set data and start training"
   ]
  },
  {
   "cell_type": "code",
   "execution_count": 16,
   "metadata": {},
   "outputs": [],
   "source": [
    "SHMM_from_config.set_data([[speed, states]])\n",
    "SHMM_from_config.train()"
   ]
  },
  {
   "cell_type": "markdown",
   "metadata": {},
   "source": [
    "## See if the training results are any different?"
   ]
  },
  {
   "cell_type": "code",
   "execution_count": 17,
   "metadata": {},
   "outputs": [
    {
     "name": "stdout",
     "output_type": "stream",
     "text": [
      "[[ 0.]]\n",
      "[[ 1.]]\n",
      "[[ 6.38975526]]\n",
      "[[ 5.47039844]]\n"
     ]
    }
   ],
   "source": [
    "# the coefficients of the output model for each states\n",
    "# clearly the enforcement worked since the coefficient of the first two states are 0, and 1\n",
    "print SHMM_from_config.model_emissions[0][0].coef\n",
    "print SHMM_from_config.model_emissions[1][0].coef\n",
    "print SHMM_from_config.model_emissions[2][0].coef\n",
    "print SHMM_from_config.model_emissions[3][0].coef"
   ]
  },
  {
   "cell_type": "code",
   "execution_count": null,
   "metadata": {
    "collapsed": true
   },
   "outputs": [],
   "source": []
  }
 ],
 "metadata": {
  "kernelspec": {
   "display_name": "Python 2",
   "language": "python",
   "name": "python2"
  },
  "language_info": {
   "codemirror_mode": {
    "name": "ipython",
    "version": 2
   },
   "file_extension": ".py",
   "mimetype": "text/x-python",
   "name": "python",
   "nbconvert_exporter": "python",
   "pygments_lexer": "ipython2",
   "version": "2.7.13"
  }
 },
 "nbformat": 4,
 "nbformat_minor": 1
}
